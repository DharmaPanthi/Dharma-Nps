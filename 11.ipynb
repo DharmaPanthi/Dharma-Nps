{
 "cells": [
  {
   "cell_type": "markdown",
   "metadata": {},
   "source": [
    "print(\"hello word\")"
   ]
  },
  {
   "cell_type": "markdown",
   "metadata": {},
   "source": [
    "print (\"hello word\")"
   ]
  },
  {
   "cell_type": "code",
   "execution_count": 1,
   "metadata": {},
   "outputs": [
    {
     "name": "stdout",
     "output_type": "stream",
     "text": [
      "hellow\n"
     ]
    }
   ],
   "source": [
    "print(\"hellow\")"
   ]
  },
  {
   "cell_type": "code",
   "execution_count": 2,
   "metadata": {},
   "outputs": [
    {
     "name": "stdout",
     "output_type": "stream",
     "text": [
      "hellow dharma\n"
     ]
    }
   ],
   "source": [
    "print('hellow dharma')"
   ]
  },
  {
   "cell_type": "markdown",
   "metadata": {},
   "source": [
    "# Title\n",
    "## Subtitle\n",
    "### Subsubtile"
   ]
  },
  {
   "cell_type": "markdown",
   "metadata": {},
   "source": [
    "$(a+b)^2 = a^2 + 2ab + b^2$"
   ]
  },
  {
   "cell_type": "markdown",
   "metadata": {},
   "source": [
    "$\\(a+b)^2 = a^2 + 2ab + b^2$"
   ]
  },
  {
   "cell_type": "markdown",
   "metadata": {},
   "source": [
    "$(a+b)^2 = a^2 + 2ab + b^2$"
   ]
  },
  {
   "cell_type": "markdown",
   "metadata": {},
   "source": [
    "($\\alpha$)"
   ]
  },
  {
   "cell_type": "markdown",
   "metadata": {},
   "source": [
    "$\\alpha$"
   ]
  },
  {
   "cell_type": "markdown",
   "metadata": {},
   "source": [
    "$\\frac{a}{b}$"
   ]
  },
  {
   "cell_type": "markdown",
   "metadata": {},
   "source": [
    "![img](https://www.google.com/url?sa=i&url=https%3A%2F%2Fwww.thoughtco.com%2F10-facts-about-rhinoceroses-4134431&psig=AOvVaw1av4MnAc1YJPk9hE70gxSU&ust=1594050366872000&source=images&cd=vfe&ved=0CAIQjRxqFwoTCKi73cC6tuoCFQAAAAAdAAAAABAD)"
   ]
  },
  {
   "cell_type": "markdown",
   "metadata": {},
   "source": []
  },
  {
   "cell_type": "markdown",
   "metadata": {},
   "source": [
    "![img](https://www.google.com/imgres?imgurl=https%3A%2F%2Fwww.thebalancecareers.com%2Fthmb%2Fi_9jucYolxY8MnbJB3IE5nX4fYw%3D%2F1500x1000%2Ffilters%3Afill(auto%2C1)%2Fchild-protective-services-caseworker-1669622-v3-a181147b162c40778a4de37ee78e2b83.png&imgrefurl=https%3A%2F%2Fwww.thebalancecareers.com%2Fchild-protective-services-caseworker-1669622&tbnid=ZZSUFC2XbGCxdM&vet=12ahUKEwi02eu7vLbqAhUn2HMBHbiECNYQMygAegUIARDCAQ..i&docid=26MayG09ZebIsM&w=1500&h=1000&q=cps&client=firefox-b-d&ved=2ahUKEwi02eu7vLbqAhUn2HMBHbiECNYQMygAegUIARDCAQ)"
   ]
  },
  {
   "cell_type": "markdown",
   "metadata": {},
   "source": [
    "![img](https://www.thebalancecareers.com/thmb/ytFxkTiAENF5BWZa4ApWcM1vbJA=/950x0/filters:max_bytes(150000):strip_icc():format(webp)/child-protective-services-caseworker-1669622-v3-a181147b162c40778a4de37ee78e2b83.png)"
   ]
  },
  {
   "cell_type": "code",
   "execution_count": null,
   "metadata": {},
   "outputs": [],
   "source": [
    "![img]()"
   ]
  }
 ],
 "metadata": {
  "kernelspec": {
   "display_name": "Python 3",
   "language": "python",
   "name": "python3"
  },
  "language_info": {
   "codemirror_mode": {
    "name": "ipython",
    "version": 3
   },
   "file_extension": ".py",
   "mimetype": "text/x-python",
   "name": "python",
   "nbconvert_exporter": "python",
   "pygments_lexer": "ipython3",
   "version": "3.7.6"
  }
 },
 "nbformat": 4,
 "nbformat_minor": 4
}
